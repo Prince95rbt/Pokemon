{
 "cells": [
  {
   "cell_type": "code",
   "execution_count": 1,
   "id": "2e30a96d",
   "metadata": {},
   "outputs": [],
   "source": [
    "import pandas as pd\n",
    "import numpy as np\n",
    "import matplotlib.pyplot as plt\n",
    "%matplotlib inline"
   ]
  },
  {
   "cell_type": "code",
   "execution_count": 2,
   "id": "c25babc5",
   "metadata": {},
   "outputs": [],
   "source": [
    "df = pd.read_csv(\"D:\\Python Preparatory\\QUIZ\\decision tree\\Pokemon.csv\")"
   ]
  },
  {
   "cell_type": "code",
   "execution_count": 3,
   "id": "38cf653e",
   "metadata": {},
   "outputs": [],
   "source": [
    "from sklearn import preprocessing\n",
    "le = preprocessing.LabelEncoder()"
   ]
  },
  {
   "cell_type": "code",
   "execution_count": 4,
   "id": "e90763fa",
   "metadata": {},
   "outputs": [],
   "source": [
    "for i in df:\n",
    "    df[i] = le.fit_transform(df[i])"
   ]
  },
  {
   "cell_type": "code",
   "execution_count": 5,
   "id": "9f4d631b",
   "metadata": {},
   "outputs": [],
   "source": [
    "from sklearn.model_selection import train_test_split"
   ]
  },
  {
   "cell_type": "code",
   "execution_count": 6,
   "id": "995d5ceb",
   "metadata": {},
   "outputs": [],
   "source": [
    "x = df.iloc[0:,1:12].values"
   ]
  },
  {
   "cell_type": "code",
   "execution_count": 7,
   "id": "a8b26d53",
   "metadata": {},
   "outputs": [],
   "source": [
    "y = df.iloc[:,12].values"
   ]
  },
  {
   "cell_type": "code",
   "execution_count": 8,
   "id": "77031f45",
   "metadata": {},
   "outputs": [],
   "source": [
    "x_train, x_test , y_train , y_test = train_test_split(x,y, train_size = 0.7 , random_state = 1 )"
   ]
  },
  {
   "cell_type": "code",
   "execution_count": 9,
   "id": "a17bd4d4",
   "metadata": {},
   "outputs": [
    {
     "data": {
      "text/plain": [
       "DecisionTreeRegressor()"
      ]
     },
     "execution_count": 9,
     "metadata": {},
     "output_type": "execute_result"
    }
   ],
   "source": [
    "from sklearn.tree import DecisionTreeRegressor\n",
    "dtreg = DecisionTreeRegressor()\n",
    "dtreg.fit(x_train, y_train)"
   ]
  },
  {
   "cell_type": "code",
   "execution_count": 10,
   "id": "c854a428",
   "metadata": {},
   "outputs": [],
   "source": [
    "y_pred = dtreg.predict(x_test)\n",
    "y_pred = pd.DataFrame(y_pred)"
   ]
  },
  {
   "cell_type": "code",
   "execution_count": 11,
   "id": "8fd14765",
   "metadata": {},
   "outputs": [],
   "source": [
    "from sklearn import metrics \n",
    "from sklearn.metrics import r2_score ,confusion_matrix , accuracy_score , classification_report"
   ]
  },
  {
   "cell_type": "code",
   "execution_count": 12,
   "id": "4fa497fc",
   "metadata": {},
   "outputs": [
    {
     "data": {
      "text/plain": [
       "0.9333333333333333"
      ]
     },
     "execution_count": 12,
     "metadata": {},
     "output_type": "execute_result"
    }
   ],
   "source": [
    "accuracy_score(y_test,y_pred)"
   ]
  },
  {
   "cell_type": "code",
   "execution_count": 13,
   "id": "9873738c",
   "metadata": {},
   "outputs": [
    {
     "name": "stdout",
     "output_type": "stream",
     "text": [
      "              precision    recall  f1-score   support\n",
      "\n",
      "           0       0.96      0.97      0.96       219\n",
      "           1       0.63      0.57      0.60        21\n",
      "\n",
      "    accuracy                           0.93       240\n",
      "   macro avg       0.80      0.77      0.78       240\n",
      "weighted avg       0.93      0.93      0.93       240\n",
      "\n"
     ]
    }
   ],
   "source": [
    "print(classification_report(y_test,y_pred))"
   ]
  },
  {
   "cell_type": "code",
   "execution_count": 14,
   "id": "f03523b5",
   "metadata": {},
   "outputs": [
    {
     "data": {
      "text/plain": [
       "array([[212,   7],\n",
       "       [  9,  12]], dtype=int64)"
      ]
     },
     "execution_count": 14,
     "metadata": {},
     "output_type": "execute_result"
    }
   ],
   "source": [
    "confusion_matrix(y_test,y_pred)"
   ]
  },
  {
   "cell_type": "code",
   "execution_count": 15,
   "id": "e219abd6",
   "metadata": {},
   "outputs": [
    {
     "data": {
      "text/plain": [
       "0.16503587736464453"
      ]
     },
     "execution_count": 15,
     "metadata": {},
     "output_type": "execute_result"
    }
   ],
   "source": [
    "r2_score(y_test, y_pred)"
   ]
  },
  {
   "cell_type": "code",
   "execution_count": null,
   "id": "cb302299",
   "metadata": {},
   "outputs": [],
   "source": []
  },
  {
   "cell_type": "code",
   "execution_count": 16,
   "id": "8cbf72f7",
   "metadata": {},
   "outputs": [
    {
     "data": {
      "text/plain": [
       "0.0    221\n",
       "1.0     19\n",
       "dtype: int64"
      ]
     },
     "execution_count": 16,
     "metadata": {},
     "output_type": "execute_result"
    }
   ],
   "source": [
    "y_pred.value_counts()"
   ]
  },
  {
   "cell_type": "code",
   "execution_count": 17,
   "id": "a2243981",
   "metadata": {},
   "outputs": [
    {
     "name": "stdout",
     "output_type": "stream",
     "text": [
      "              precision    recall  f1-score   support\n",
      "\n",
      "           0       0.96      0.97      0.96       219\n",
      "           1       0.63      0.57      0.60        21\n",
      "\n",
      "    accuracy                           0.93       240\n",
      "   macro avg       0.80      0.77      0.78       240\n",
      "weighted avg       0.93      0.93      0.93       240\n",
      "\n"
     ]
    }
   ],
   "source": [
    "print(classification_report(y_test,y_pred))"
   ]
  },
  {
   "cell_type": "code",
   "execution_count": 18,
   "id": "1da4c1be",
   "metadata": {},
   "outputs": [
    {
     "name": "stdout",
     "output_type": "stream",
     "text": [
      "0.9680365296803652\n"
     ]
    }
   ],
   "source": [
    "cf = confusion_matrix(y_test,y_pred)\n",
    "tp = cf[0][0]\n",
    "fn = cf[0][1]\n",
    "fp = cf[1][0]\n",
    "tn = cf[1][1]\n",
    "sensitivity= tp/(tp+fn)\n",
    "print(sensitivity)"
   ]
  },
  {
   "cell_type": "code",
   "execution_count": 20,
   "id": "13e8b0f2",
   "metadata": {},
   "outputs": [
    {
     "data": {
      "text/html": [
       "<div>\n",
       "<style scoped>\n",
       "    .dataframe tbody tr th:only-of-type {\n",
       "        vertical-align: middle;\n",
       "    }\n",
       "\n",
       "    .dataframe tbody tr th {\n",
       "        vertical-align: top;\n",
       "    }\n",
       "\n",
       "    .dataframe thead th {\n",
       "        text-align: right;\n",
       "    }\n",
       "</style>\n",
       "<table border=\"1\" class=\"dataframe\">\n",
       "  <thead>\n",
       "    <tr style=\"text-align: right;\">\n",
       "      <th></th>\n",
       "      <th>#</th>\n",
       "      <th>Name</th>\n",
       "      <th>Type 1</th>\n",
       "      <th>Type 2</th>\n",
       "      <th>Total</th>\n",
       "      <th>HP</th>\n",
       "      <th>Attack</th>\n",
       "      <th>Defense</th>\n",
       "      <th>Sp. Atk</th>\n",
       "      <th>Sp. Def</th>\n",
       "      <th>Speed</th>\n",
       "      <th>Generation</th>\n",
       "      <th>Legendary</th>\n",
       "    </tr>\n",
       "  </thead>\n",
       "  <tbody>\n",
       "    <tr>\n",
       "      <th>0</th>\n",
       "      <td>0</td>\n",
       "      <td>80</td>\n",
       "      <td>9</td>\n",
       "      <td>13</td>\n",
       "      <td>57</td>\n",
       "      <td>17</td>\n",
       "      <td>24</td>\n",
       "      <td>23</td>\n",
       "      <td>41</td>\n",
       "      <td>37</td>\n",
       "      <td>24</td>\n",
       "      <td>0</td>\n",
       "      <td>0</td>\n",
       "    </tr>\n",
       "    <tr>\n",
       "      <th>1</th>\n",
       "      <td>1</td>\n",
       "      <td>329</td>\n",
       "      <td>9</td>\n",
       "      <td>13</td>\n",
       "      <td>94</td>\n",
       "      <td>31</td>\n",
       "      <td>37</td>\n",
       "      <td>37</td>\n",
       "      <td>55</td>\n",
       "      <td>50</td>\n",
       "      <td>38</td>\n",
       "      <td>0</td>\n",
       "      <td>0</td>\n",
       "    </tr>\n",
       "    <tr>\n",
       "      <th>2</th>\n",
       "      <td>2</td>\n",
       "      <td>745</td>\n",
       "      <td>9</td>\n",
       "      <td>13</td>\n",
       "      <td>165</td>\n",
       "      <td>51</td>\n",
       "      <td>57</td>\n",
       "      <td>55</td>\n",
       "      <td>71</td>\n",
       "      <td>66</td>\n",
       "      <td>58</td>\n",
       "      <td>0</td>\n",
       "      <td>0</td>\n",
       "    </tr>\n",
       "    <tr>\n",
       "      <th>3</th>\n",
       "      <td>2</td>\n",
       "      <td>746</td>\n",
       "      <td>9</td>\n",
       "      <td>13</td>\n",
       "      <td>188</td>\n",
       "      <td>51</td>\n",
       "      <td>73</td>\n",
       "      <td>86</td>\n",
       "      <td>86</td>\n",
       "      <td>77</td>\n",
       "      <td>58</td>\n",
       "      <td>0</td>\n",
       "      <td>0</td>\n",
       "    </tr>\n",
       "    <tr>\n",
       "      <th>4</th>\n",
       "      <td>3</td>\n",
       "      <td>102</td>\n",
       "      <td>6</td>\n",
       "      <td>18</td>\n",
       "      <td>51</td>\n",
       "      <td>11</td>\n",
       "      <td>27</td>\n",
       "      <td>18</td>\n",
       "      <td>36</td>\n",
       "      <td>22</td>\n",
       "      <td>43</td>\n",
       "      <td>0</td>\n",
       "      <td>0</td>\n",
       "    </tr>\n",
       "    <tr>\n",
       "      <th>...</th>\n",
       "      <td>...</td>\n",
       "      <td>...</td>\n",
       "      <td>...</td>\n",
       "      <td>...</td>\n",
       "      <td>...</td>\n",
       "      <td>...</td>\n",
       "      <td>...</td>\n",
       "      <td>...</td>\n",
       "      <td>...</td>\n",
       "      <td>...</td>\n",
       "      <td>...</td>\n",
       "      <td>...</td>\n",
       "      <td>...</td>\n",
       "    </tr>\n",
       "    <tr>\n",
       "      <th>795</th>\n",
       "      <td>718</td>\n",
       "      <td>160</td>\n",
       "      <td>15</td>\n",
       "      <td>4</td>\n",
       "      <td>184</td>\n",
       "      <td>21</td>\n",
       "      <td>73</td>\n",
       "      <td>96</td>\n",
       "      <td>71</td>\n",
       "      <td>87</td>\n",
       "      <td>29</td>\n",
       "      <td>5</td>\n",
       "      <td>1</td>\n",
       "    </tr>\n",
       "    <tr>\n",
       "      <th>796</th>\n",
       "      <td>718</td>\n",
       "      <td>161</td>\n",
       "      <td>15</td>\n",
       "      <td>4</td>\n",
       "      <td>196</td>\n",
       "      <td>21</td>\n",
       "      <td>104</td>\n",
       "      <td>76</td>\n",
       "      <td>99</td>\n",
       "      <td>73</td>\n",
       "      <td>85</td>\n",
       "      <td>5</td>\n",
       "      <td>1</td>\n",
       "    </tr>\n",
       "    <tr>\n",
       "      <th>797</th>\n",
       "      <td>719</td>\n",
       "      <td>314</td>\n",
       "      <td>14</td>\n",
       "      <td>8</td>\n",
       "      <td>184</td>\n",
       "      <td>51</td>\n",
       "      <td>82</td>\n",
       "      <td>34</td>\n",
       "      <td>96</td>\n",
       "      <td>83</td>\n",
       "      <td>48</td>\n",
       "      <td>5</td>\n",
       "      <td>1</td>\n",
       "    </tr>\n",
       "    <tr>\n",
       "      <th>798</th>\n",
       "      <td>719</td>\n",
       "      <td>315</td>\n",
       "      <td>14</td>\n",
       "      <td>1</td>\n",
       "      <td>195</td>\n",
       "      <td>51</td>\n",
       "      <td>104</td>\n",
       "      <td>34</td>\n",
       "      <td>101</td>\n",
       "      <td>83</td>\n",
       "      <td>58</td>\n",
       "      <td>5</td>\n",
       "      <td>1</td>\n",
       "    </tr>\n",
       "    <tr>\n",
       "      <th>799</th>\n",
       "      <td>720</td>\n",
       "      <td>756</td>\n",
       "      <td>6</td>\n",
       "      <td>17</td>\n",
       "      <td>184</td>\n",
       "      <td>51</td>\n",
       "      <td>82</td>\n",
       "      <td>83</td>\n",
       "      <td>90</td>\n",
       "      <td>59</td>\n",
       "      <td>48</td>\n",
       "      <td>5</td>\n",
       "      <td>1</td>\n",
       "    </tr>\n",
       "  </tbody>\n",
       "</table>\n",
       "<p>800 rows × 13 columns</p>\n",
       "</div>"
      ],
      "text/plain": [
       "       #  Name  Type 1  Type 2  Total  HP  Attack  Defense  Sp. Atk  Sp. Def  \\\n",
       "0      0    80       9      13     57  17      24       23       41       37   \n",
       "1      1   329       9      13     94  31      37       37       55       50   \n",
       "2      2   745       9      13    165  51      57       55       71       66   \n",
       "3      2   746       9      13    188  51      73       86       86       77   \n",
       "4      3   102       6      18     51  11      27       18       36       22   \n",
       "..   ...   ...     ...     ...    ...  ..     ...      ...      ...      ...   \n",
       "795  718   160      15       4    184  21      73       96       71       87   \n",
       "796  718   161      15       4    196  21     104       76       99       73   \n",
       "797  719   314      14       8    184  51      82       34       96       83   \n",
       "798  719   315      14       1    195  51     104       34      101       83   \n",
       "799  720   756       6      17    184  51      82       83       90       59   \n",
       "\n",
       "     Speed  Generation  Legendary  \n",
       "0       24           0          0  \n",
       "1       38           0          0  \n",
       "2       58           0          0  \n",
       "3       58           0          0  \n",
       "4       43           0          0  \n",
       "..     ...         ...        ...  \n",
       "795     29           5          1  \n",
       "796     85           5          1  \n",
       "797     48           5          1  \n",
       "798     58           5          1  \n",
       "799     48           5          1  \n",
       "\n",
       "[800 rows x 13 columns]"
      ]
     },
     "execution_count": 20,
     "metadata": {},
     "output_type": "execute_result"
    }
   ],
   "source": [
    "df"
   ]
  },
  {
   "cell_type": "raw",
   "id": "5cb84b33",
   "metadata": {},
   "source": [
    "1 - 165 - A\n",
    "2 - 3(230) - C\n",
    "3 - D - none\n",
    "4 - D - none\n",
    "5 -  decisiontree - C\n",
    "6 - 0.96 - A\n",
    "7 - 0.96 - A\n",
    "8 - A\n",
    "9 - A\n",
    "10- B\n",
    "11 - D\n",
    "12 - A\n",
    "13 - C\n",
    "\n"
   ]
  },
  {
   "cell_type": "code",
   "execution_count": null,
   "id": "34e6b4fe",
   "metadata": {},
   "outputs": [],
   "source": []
  }
 ],
 "metadata": {
  "kernelspec": {
   "display_name": "Python 3",
   "language": "python",
   "name": "python3"
  },
  "language_info": {
   "codemirror_mode": {
    "name": "ipython",
    "version": 3
   },
   "file_extension": ".py",
   "mimetype": "text/x-python",
   "name": "python",
   "nbconvert_exporter": "python",
   "pygments_lexer": "ipython3",
   "version": "3.8.8"
  }
 },
 "nbformat": 4,
 "nbformat_minor": 5
}
